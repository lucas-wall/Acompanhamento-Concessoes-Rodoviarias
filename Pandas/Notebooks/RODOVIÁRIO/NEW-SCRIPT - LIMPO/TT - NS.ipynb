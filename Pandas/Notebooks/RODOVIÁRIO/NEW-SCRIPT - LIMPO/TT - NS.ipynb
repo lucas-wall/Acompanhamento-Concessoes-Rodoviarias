{
 "cells": [
  {
   "cell_type": "markdown",
   "metadata": {},
   "source": [
    "<h1><b><i>Todas Tabelas - Script</i></b></h1>"
   ]
  },
  {
   "cell_type": "code",
   "execution_count": 12,
   "metadata": {},
   "outputs": [],
   "source": [
    "import os\n",
    "import pandas as pd\n",
    "import xlsxwriter    "
   ]
  },
  {
   "cell_type": "code",
   "execution_count": 13,
   "metadata": {},
   "outputs": [],
   "source": [
    "# Define o caminho do arquivo Excel\n",
    "file_path = 'Planilha Monitoramento_PPI - Carregamento - BI 2025 - 6.xlsx'"
   ]
  },
  {
   "cell_type": "code",
   "execution_count": 14,
   "metadata": {},
   "outputs": [],
   "source": [
    "# Pasta onde estão os arquivos de origem\n",
    "pasta_dados = 'Dados Gerados/'"
   ]
  },
  {
   "cell_type": "code",
   "execution_count": 15,
   "metadata": {},
   "outputs": [],
   "source": [
    "# Lista com os caminhos dos arquivos a serem combinados\n",
    "arquivos_e_sheets = {\n",
    "    'INFORMAÇÕES (1).xlsx': 'INFORMAÇÕES',\n",
    "    'PER (1).xlsx': 'PER', \n",
    "    'PLAN_EXEC ATÉ ANO ANTERIOR (24).xlsx': 'PLAN_EXEC (ATÉ 2024)',\n",
    "    'META(2025).xlsx': 'META(2025)',\n",
    "    'iNEXECUTADO (pendências até 24).xlsx': 'INEXECUTADO ATÉ 2024 Pendências', \n",
    "    'À EXECUTAR (2026 DIANTE).xlsx': 'A EXECUTAR',\n",
    "    'META(2026).xlsx': 'META(2026)',\n",
    "    'META(2027).xlsx': 'META(2027)'\n",
    "}"
   ]
  },
  {
   "cell_type": "code",
   "execution_count": 16,
   "metadata": {},
   "outputs": [],
   "source": [
    "# Inicializar um DataFrame vazio para concatenar todos os dados\n",
    "df_todas_tabelas = pd.DataFrame()"
   ]
  },
  {
   "cell_type": "code",
   "execution_count": 17,
   "metadata": {},
   "outputs": [
    {
     "name": "stderr",
     "output_type": "stream",
     "text": [
      "C:\\Users\\lucas.bruno\\AppData\\Local\\Temp\\ipykernel_13380\\3074325620.py:33: FutureWarning: Downcasting object dtype arrays on .fillna, .ffill, .bfill is deprecated and will change in a future version. Call result.infer_objects(copy=False) instead. To opt-in to the future behavior, set `pd.set_option('future.no_silent_downcasting', True)`\n",
      "  df_final[col] = df_final[col].fillna(0)\n"
     ]
    }
   ],
   "source": [
    "# Criar o arquivo Excel\n",
    "with pd.ExcelWriter(file_path, engine='xlsxwriter', engine_kwargs={'options': {'strings_to_numbers': True}}) as writer:\n",
    "    for arquivo, nome_sheet in arquivos_e_sheets.items():\n",
    "        caminho_arquivo = os.path.join(pasta_dados, arquivo)\n",
    "        try:\n",
    "            df = pd.read_excel(caminho_arquivo)\n",
    "            df['PLANILHA'] = nome_sheet\n",
    "            df.to_excel(writer, sheet_name=nome_sheet, index=False)\n",
    "            df_todas_tabelas = pd.concat([df_todas_tabelas, df], ignore_index=True)\n",
    "        except FileNotFoundError:\n",
    "            print(f'Arquivo não encontrado: {caminho_arquivo}')\n",
    "\n",
    "    # Processamento final\n",
    "    df_todas_tabelas.index = range(1, len(df_todas_tabelas) + 1)\n",
    "    df_todas_tabelas = df_todas_tabelas.reset_index()\n",
    "    df_todas_tabelas.rename(columns={'index': 'ID-ÚNICO-TT'}, inplace=True)\n",
    "\n",
    "    if 'Atributo.2' in df_todas_tabelas.columns and 'Valor' in df_todas_tabelas.columns:\n",
    "        df_todas_tabelas_mod = df_todas_tabelas.pivot_table(\n",
    "            index='ID-ÚNICO-TT', columns='Atributo.2', values='Valor', aggfunc='first'\n",
    "        ).reset_index()\n",
    "\n",
    "        df_final = pd.merge(df_todas_tabelas, df_todas_tabelas_mod, on='ID-ÚNICO-TT', how='outer')\n",
    "        df_final['EMPREENDIMENTO'] = df_final['EMPREENDIMENTO'].replace('CONCESSÃO VIA SUL', 'VIA SUL')\n",
    "\n",
    "        df_final.drop(columns=['Atributo.2', 'Valor'], errors='ignore', inplace=True)\n",
    "        df_final.rename(columns={'Atributo.3': 'Atributo.2'}, inplace=True)\n",
    "\n",
    "        colunas_para_zerar = ['(km)%', '(km)% EXEC', '(km)% PLAN', 'Ext. (km)', 'FINANCEIRO (R$)', 'FINANCEIRO PLAN (R$)',\n",
    "                              'PERCENTUAL (%)', 'PERCENTUAL (%) EXEC', 'PERCENTUAL (%) PLAN', 'km (f)', 'km (i)']\n",
    "        for col in colunas_para_zerar:\n",
    "            if col in df_final.columns:\n",
    "                df_final[col] = df_final[col].fillna(0)\n",
    "\n",
    "        df_final.to_excel(writer, sheet_name='Todas Tabelas', index=False)\n",
    "    else:\n",
    "        print('Não Deu Certo :(')"
   ]
  },
  {
   "cell_type": "markdown",
   "metadata": {},
   "source": [
    "<h1><b><i>'Todas Tabelas - Script'</i></b></h1>\n",
    "<h2><b><i>1. Descrição do Processo</i></b></h2>\n",
    "<p>O script realiza a combinação de várias planilhas de diferentes arquivos Excel em um único arquivo, utilizando o Pandas e o ExcelWriter do XlsxWriter. Ele também organiza os dados, preenche valores ausentes e aplica pivotagens conforme necessário.</p>\n",
    "\n",
    "<h2><b><i>2. Etapas do Processamento</i></b></h2>\n",
    "\n",
    "<h3><b><i>2.1. Definição dos Arquivos e Sheets</i></b></h3>\n",
    "<p>O script começa definindo os arquivos e suas respectivas planilhas que precisam ser carregados e combinados. A lista 'arquivos_e_sheets' contém os nomes dos arquivos Excel e as planilhas a serem lidas de cada arquivo:</p>\n",
    "<pre>\n",
    "arquivos_e_sheets = {\n",
    "'INFORMAÇÕES (1).xlsx': 'INFORMAÇÕES',\n",
    "'PER (1).xlsx': 'PER',\n",
    "'PLAN_EXEC ATÉ ANO ANTERIOR (24).xlsx': 'PLAN_EXEC (ATÉ 2024)',\n",
    "'META(2025).xlsx': 'META(2025)',\n",
    "'iNEXECUTADO (pendências até 24).xlsx': 'INEXECUTADO ATÉ 2024 Pendências',\n",
    "'À EXECUTAR (2026 DIANTE).xlsx': 'A EXECUTAR',\n",
    "'META(2026).xlsx': 'META(2026)',\n",
    "'META(2027).xlsx': 'META(2027)'\n",
    "}\n",
    "</pre>\n",
    "\n",
    "<h3><b><i>2.2. Inicialização do DataFrame</i></b></h3>\n",
    "<p>O script inicializa um DataFrame vazio, <code>df_todas_tabelas</code>, que será preenchido com os dados de cada arquivo:</p>\n",
    "<pre>\n",
    "df_todas_tabelas = pd.DataFrame()\n",
    "</pre>\n",
    "\n",
    "<h3><b><i>2.3. Leitura dos Arquivos e Criação das Sheets</i></b></h3>\n",
    "<p>Utiliza-se o ExcelWriter para abrir um novo arquivo e escrever os dados de cada arquivo de entrada nas suas respectivas planilhas. O nome da planilha é adicionado como uma nova coluna em cada DataFrame:</p>\n",
    "<pre>\n",
    "with pd.ExcelWriter(file_path, engine='xlsxwriter', engine_kwargs={'options': {'strings_to_numbers': True}}) as writer:\n",
    "for arquivo, nome_sheet in arquivos_e_sheets.items():\n",
    "df = pd.read_excel(arquivo)\n",
    "df['PLANILHA'] = nome_sheet  # Adiciona a coluna 'PLANILHA' com o nome do arquivo\n",
    "df.to_excel(writer, sheet_name=nome_sheet, index=False)\n",
    "df_todas_tabelas = pd.concat([df_todas_tabelas, df], ignore_index=True)\n",
    "</pre>\n",
    "\n",
    "<h3><b><i>2.4. Adição de Índice Único</i></b></h3>\n",
    "<p>O índice do DataFrame resultante é modificado para garantir que cada linha tenha um valor único. A coluna do índice é renomeada para 'ID-ÚNICO-TT':</p>\n",
    "<pre>\n",
    "df_todas_tabelas.index = range(1, len(df_todas_tabelas) + 1)\n",
    "df_todas_tabelas = df_todas_tabelas.reset_index()\n",
    "df_todas_tabelas.rename(columns={'index': 'ID-ÚNICO-TT'}, inplace=True)\n",
    "</pre>\n",
    "\n",
    "<h3><b><i>2.5. Pivotagem dos Dados</i></b></h3>\n",
    "<p>Se as colunas 'Atributo.2' e 'Valor' estiverem presentes, o script cria uma tabela pivô para reestruturar os dados:</p>\n",
    "<pre>\n",
    "if 'Atributo.2' in df_todas_tabelas.columns and 'Valor' in df_todas_tabelas.columns:\n",
    "df_todas_tabelas_mod = df_todas_tabelas.pivot_table(index=['ID-ÚNICO-TT'], columns='Atributo.2', values='Valor', aggfunc='first').reset_index()\n",
    "</pre>\n",
    "\n",
    "<h3><b><i>2.6. Combinação dos Dados</i></b></h3>\n",
    "<p>O script combina os dados originais com os dados pivotados para criar uma única tabela final:</p>\n",
    "<pre>\n",
    "df_final = pd.merge(df_todas_tabelas, df_todas_tabelas_mod, on='ID-ÚNICO-TT', how='outer')\n",
    "</pre>\n",
    "\n",
    "<h3><b><i>2.7. Substituição de Valores e Preenchimento de Nulos</i></b></h3>\n",
    "<p>Na coluna 'EMPREENDIMENTO', é feita uma substituição específica de valor, e os valores ausentes nas colunas numéricas são preenchidos com 0:</p>\n",
    "<pre>\n",
    "df_final['EMPREENDIMENTO'] = df_final['EMPREENDIMENTO'].replace('CONCESSÃO VIA SUL', 'VIA SUL')\n",
    "df_final[['(km)%', '(km)% EXEC', '(km)% PLAN', 'Ext. (km)', 'FINANCEIRO (R$)', 'FINANCEIRO PLAN (R$)',\n",
    "'PERCENTUAL (%)', 'PERCENTUAL (%) EXEC', 'PERCENTUAL (%) PLAN',\n",
    "'km (f)', 'km (i)']] = df_final[['(km)%', '(km)% EXEC', '(km)% PLAN', 'Ext. (km)', 'FINANCEIRO (R$)', 'FINANCEIRO PLAN (R$)',\n",
    "'PERCENTUAL (%)', 'PERCENTUAL (%) EXEC', 'PERCENTUAL (%) PLAN',\n",
    "'km (f)', 'km (i)']].fillna(0)\n",
    "</pre>\n",
    "\n",
    "<h3><b><i>2.8. Finalização e Salvamento</i></b></h3>\n",
    "<p>Finalmente, a tabela final é salva em uma nova aba chamada 'Todas Tabelas'. Caso a estrutura não seja encontrada, uma mensagem de erro será exibida:</p>\n",
    "<pre>\n",
    "df_final.to_excel(writer, sheet_name='Todas Tabelas', index=False)  \n",
    "</pre>\n",
    "\n",
    "<h3><b><i>2.9. Mensagem de Erro</i></b></h3>\n",
    "<p>Caso as colunas necessárias ('Atributo.2' e 'Valor') não existam no DataFrame, uma mensagem de erro é impressa no console:</p>\n",
    "<pre>\n",
    "print('Não Deu Certo :( ')\n",
    "</pre>\n",
    "\n",
    "<h2><b><i>3. Conclusão</i></b></h2>\n",
    "<p>O script combina e transforma os dados de múltiplos arquivos e planilhas em um único arquivo Excel, criando uma nova aba com os dados processados. As informações são limpas, reorganizadas, e preparadas para análises subsequentes.</p>"
   ]
  },
  {
   "cell_type": "markdown",
   "metadata": {},
   "source": [
    "---"
   ]
  }
 ],
 "metadata": {
  "kernelspec": {
   "display_name": "Python 3",
   "language": "python",
   "name": "python3"
  },
  "language_info": {
   "codemirror_mode": {
    "name": "ipython",
    "version": 3
   },
   "file_extension": ".py",
   "mimetype": "text/x-python",
   "name": "python",
   "nbconvert_exporter": "python",
   "pygments_lexer": "ipython3",
   "version": "3.13.0"
  }
 },
 "nbformat": 4,
 "nbformat_minor": 2
}
